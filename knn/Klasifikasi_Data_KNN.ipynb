{
  "nbformat": 4,
  "nbformat_minor": 0,
  "metadata": {
    "colab": {
      "name": "Klasifikasi Data KNN.ipynb",
      "provenance": []
    },
    "kernelspec": {
      "name": "python3",
      "display_name": "Python 3"
    },
    "language_info": {
      "name": "python"
    }
  },
  "cells": [
    {
      "cell_type": "code",
      "execution_count": 2,
      "metadata": {
        "id": "E6uGVRXHl1hd"
      },
      "outputs": [],
      "source": [
        "import numpy as np\n",
        "import matplotlib.pyplot as plt\n",
        "import pandas as pd\n"
      ]
    },
    {
      "cell_type": "code",
      "source": [
        "dataset = pd.read_excel('datacoba.xlsx')"
      ],
      "metadata": {
        "id": "dqrsDg8aomBJ"
      },
      "execution_count": 4,
      "outputs": []
    },
    {
      "cell_type": "code",
      "source": [
        "dataset.head()"
      ],
      "metadata": {
        "colab": {
          "base_uri": "https://localhost:8080/",
          "height": 285
        },
        "id": "7RNi2sATou6D",
        "outputId": "4a09c7d8-9287-4991-f7a9-f6e223b2a97e"
      },
      "execution_count": null,
      "outputs": [
        {
          "output_type": "execute_result",
          "data": {
            "text/plain": [
              "   Nomor      Nama Pembeli  Nomor Invoice  Total Penjualan (IDR)  \\\n",
              "0      1  ayu dwi Nindyati     1910388753                  93500   \n",
              "1      2      Ave G Susilo     1912371461                  30000   \n",
              "2      3              gina     1911880938                  45000   \n",
              "3      4      Asti Sukirno     1913200965                 336000   \n",
              "4      5        Dewi Retno     1916675597                  45000   \n",
              "\n",
              "   Status Terakhir  \n",
              "0                1  \n",
              "1                1  \n",
              "2                1  \n",
              "3                1  \n",
              "4                1  "
            ],
            "text/html": [
              "\n",
              "  <div id=\"df-adb3b9ca-9c83-41f5-b4d4-3b6cef908732\">\n",
              "    <div class=\"colab-df-container\">\n",
              "      <div>\n",
              "<style scoped>\n",
              "    .dataframe tbody tr th:only-of-type {\n",
              "        vertical-align: middle;\n",
              "    }\n",
              "\n",
              "    .dataframe tbody tr th {\n",
              "        vertical-align: top;\n",
              "    }\n",
              "\n",
              "    .dataframe thead th {\n",
              "        text-align: right;\n",
              "    }\n",
              "</style>\n",
              "<table border=\"1\" class=\"dataframe\">\n",
              "  <thead>\n",
              "    <tr style=\"text-align: right;\">\n",
              "      <th></th>\n",
              "      <th>Nomor</th>\n",
              "      <th>Nama Pembeli</th>\n",
              "      <th>Nomor Invoice</th>\n",
              "      <th>Total Penjualan (IDR)</th>\n",
              "      <th>Status Terakhir</th>\n",
              "    </tr>\n",
              "  </thead>\n",
              "  <tbody>\n",
              "    <tr>\n",
              "      <th>0</th>\n",
              "      <td>1</td>\n",
              "      <td>ayu dwi Nindyati</td>\n",
              "      <td>1910388753</td>\n",
              "      <td>93500</td>\n",
              "      <td>1</td>\n",
              "    </tr>\n",
              "    <tr>\n",
              "      <th>1</th>\n",
              "      <td>2</td>\n",
              "      <td>Ave G Susilo</td>\n",
              "      <td>1912371461</td>\n",
              "      <td>30000</td>\n",
              "      <td>1</td>\n",
              "    </tr>\n",
              "    <tr>\n",
              "      <th>2</th>\n",
              "      <td>3</td>\n",
              "      <td>gina</td>\n",
              "      <td>1911880938</td>\n",
              "      <td>45000</td>\n",
              "      <td>1</td>\n",
              "    </tr>\n",
              "    <tr>\n",
              "      <th>3</th>\n",
              "      <td>4</td>\n",
              "      <td>Asti Sukirno</td>\n",
              "      <td>1913200965</td>\n",
              "      <td>336000</td>\n",
              "      <td>1</td>\n",
              "    </tr>\n",
              "    <tr>\n",
              "      <th>4</th>\n",
              "      <td>5</td>\n",
              "      <td>Dewi Retno</td>\n",
              "      <td>1916675597</td>\n",
              "      <td>45000</td>\n",
              "      <td>1</td>\n",
              "    </tr>\n",
              "  </tbody>\n",
              "</table>\n",
              "</div>\n",
              "      <button class=\"colab-df-convert\" onclick=\"convertToInteractive('df-adb3b9ca-9c83-41f5-b4d4-3b6cef908732')\"\n",
              "              title=\"Convert this dataframe to an interactive table.\"\n",
              "              style=\"display:none;\">\n",
              "        \n",
              "  <svg xmlns=\"http://www.w3.org/2000/svg\" height=\"24px\"viewBox=\"0 0 24 24\"\n",
              "       width=\"24px\">\n",
              "    <path d=\"M0 0h24v24H0V0z\" fill=\"none\"/>\n",
              "    <path d=\"M18.56 5.44l.94 2.06.94-2.06 2.06-.94-2.06-.94-.94-2.06-.94 2.06-2.06.94zm-11 1L8.5 8.5l.94-2.06 2.06-.94-2.06-.94L8.5 2.5l-.94 2.06-2.06.94zm10 10l.94 2.06.94-2.06 2.06-.94-2.06-.94-.94-2.06-.94 2.06-2.06.94z\"/><path d=\"M17.41 7.96l-1.37-1.37c-.4-.4-.92-.59-1.43-.59-.52 0-1.04.2-1.43.59L10.3 9.45l-7.72 7.72c-.78.78-.78 2.05 0 2.83L4 21.41c.39.39.9.59 1.41.59.51 0 1.02-.2 1.41-.59l7.78-7.78 2.81-2.81c.8-.78.8-2.07 0-2.86zM5.41 20L4 18.59l7.72-7.72 1.47 1.35L5.41 20z\"/>\n",
              "  </svg>\n",
              "      </button>\n",
              "      \n",
              "  <style>\n",
              "    .colab-df-container {\n",
              "      display:flex;\n",
              "      flex-wrap:wrap;\n",
              "      gap: 12px;\n",
              "    }\n",
              "\n",
              "    .colab-df-convert {\n",
              "      background-color: #E8F0FE;\n",
              "      border: none;\n",
              "      border-radius: 50%;\n",
              "      cursor: pointer;\n",
              "      display: none;\n",
              "      fill: #1967D2;\n",
              "      height: 32px;\n",
              "      padding: 0 0 0 0;\n",
              "      width: 32px;\n",
              "    }\n",
              "\n",
              "    .colab-df-convert:hover {\n",
              "      background-color: #E2EBFA;\n",
              "      box-shadow: 0px 1px 2px rgba(60, 64, 67, 0.3), 0px 1px 3px 1px rgba(60, 64, 67, 0.15);\n",
              "      fill: #174EA6;\n",
              "    }\n",
              "\n",
              "    [theme=dark] .colab-df-convert {\n",
              "      background-color: #3B4455;\n",
              "      fill: #D2E3FC;\n",
              "    }\n",
              "\n",
              "    [theme=dark] .colab-df-convert:hover {\n",
              "      background-color: #434B5C;\n",
              "      box-shadow: 0px 1px 3px 1px rgba(0, 0, 0, 0.15);\n",
              "      filter: drop-shadow(0px 1px 2px rgba(0, 0, 0, 0.3));\n",
              "      fill: #FFFFFF;\n",
              "    }\n",
              "  </style>\n",
              "\n",
              "      <script>\n",
              "        const buttonEl =\n",
              "          document.querySelector('#df-adb3b9ca-9c83-41f5-b4d4-3b6cef908732 button.colab-df-convert');\n",
              "        buttonEl.style.display =\n",
              "          google.colab.kernel.accessAllowed ? 'block' : 'none';\n",
              "\n",
              "        async function convertToInteractive(key) {\n",
              "          const element = document.querySelector('#df-adb3b9ca-9c83-41f5-b4d4-3b6cef908732');\n",
              "          const dataTable =\n",
              "            await google.colab.kernel.invokeFunction('convertToInteractive',\n",
              "                                                     [key], {});\n",
              "          if (!dataTable) return;\n",
              "\n",
              "          const docLinkHtml = 'Like what you see? Visit the ' +\n",
              "            '<a target=\"_blank\" href=https://colab.research.google.com/notebooks/data_table.ipynb>data table notebook</a>'\n",
              "            + ' to learn more about interactive tables.';\n",
              "          element.innerHTML = '';\n",
              "          dataTable['output_type'] = 'display_data';\n",
              "          await google.colab.output.renderOutput(dataTable, element);\n",
              "          const docLink = document.createElement('div');\n",
              "          docLink.innerHTML = docLinkHtml;\n",
              "          element.appendChild(docLink);\n",
              "        }\n",
              "      </script>\n",
              "    </div>\n",
              "  </div>\n",
              "  "
            ]
          },
          "metadata": {},
          "execution_count": 72
        }
      ]
    },
    {
      "cell_type": "code",
      "source": [
        "x = dataset.iloc[:,[2,3]].values\n",
        "y = dataset.iloc[:,-1].values"
      ],
      "metadata": {
        "id": "cAvXJmPCo4wl"
      },
      "execution_count": 5,
      "outputs": []
    },
    {
      "cell_type": "code",
      "source": [
        "print(x)"
      ],
      "metadata": {
        "colab": {
          "base_uri": "https://localhost:8080/"
        },
        "id": "DnFcHfbSrTJG",
        "outputId": "4103b405-61cf-473c-96da-507d2c811332"
      },
      "execution_count": 6,
      "outputs": [
        {
          "output_type": "stream",
          "name": "stdout",
          "text": [
            "[[1910388753      93500]\n",
            " [1912371461      30000]\n",
            " [1911880938      45000]\n",
            " [1913200965     336000]\n",
            " [1916675597      45000]\n",
            " [1917199783     112200]\n",
            " [1923040378     349900]\n",
            " [1925460262          0]\n",
            " [1929978995     117000]\n",
            " [1930882109      52700]\n",
            " [1933369595      29300]\n",
            " [1936968952      30000]\n",
            " [1937156226      45000]\n",
            " [1937294170      45000]\n",
            " [1943068458     189000]\n",
            " [1944627700     115000]\n",
            " [1947795352      11700]\n",
            " [1951783549      30000]\n",
            " [1952118529      60000]\n",
            " [1955313886      45600]\n",
            " [1955878016     112200]\n",
            " [1959986740    1365000]\n",
            " [1961211939      30000]\n",
            " [1964597267    1104000]\n",
            " [1966690600      19900]\n",
            " [1968079583      12500]\n",
            " [1972665540      29400]\n",
            " [1974940342      69000]\n",
            " [1975078977    2940600]\n",
            " [1979155109      16400]\n",
            " [1980254911     345000]\n",
            " [1986727120      39800]\n",
            " [1989117731      30000]\n",
            " [1993372528     315900]\n",
            " [1994790179     149600]\n",
            " [1997588931      39800]\n",
            " [1997788344      99300]]\n"
          ]
        }
      ]
    },
    {
      "cell_type": "code",
      "source": [
        "print(y)"
      ],
      "metadata": {
        "colab": {
          "base_uri": "https://localhost:8080/"
        },
        "id": "agCWfETOsQ1O",
        "outputId": "0db520d4-55f3-4f37-b783-bb7e0766a760"
      },
      "execution_count": 7,
      "outputs": [
        {
          "output_type": "stream",
          "name": "stdout",
          "text": [
            "[1 1 1 1 1 1 0 1 1 1 1 1 1 1 1 0 1 1 1 1 0 1 1 1 1 1 1 0 1 1 0 1 0 1 1 0 1]\n"
          ]
        }
      ]
    },
    {
      "cell_type": "code",
      "source": [
        "from sklearn.model_selection import train_test_split\n",
        "x_train, x_test, y_train, y_test = train_test_split(x,y,test_size=0.25, random_state=0)"
      ],
      "metadata": {
        "id": "f__7GWy1scC4"
      },
      "execution_count": 8,
      "outputs": []
    },
    {
      "cell_type": "code",
      "source": [
        "print(x_train)"
      ],
      "metadata": {
        "id": "35HNLzu7s2WY",
        "colab": {
          "base_uri": "https://localhost:8080/"
        },
        "outputId": "9eef7670-c35f-4699-8dc9-6240b4b1d859"
      },
      "execution_count": 9,
      "outputs": [
        {
          "output_type": "stream",
          "name": "stdout",
          "text": [
            "[[1980254911     345000]\n",
            " [1989117731      30000]\n",
            " [1997788344      99300]\n",
            " [1994790179     149600]\n",
            " [1979155109      16400]\n",
            " [1993372528     315900]\n",
            " [1929978995     117000]\n",
            " [1937294170      45000]\n",
            " [1917199783     112200]\n",
            " [1951783549      30000]\n",
            " [1943068458     189000]\n",
            " [1925460262          0]\n",
            " [1974940342      69000]\n",
            " [1912371461      30000]\n",
            " [1937156226      45000]\n",
            " [1972665540      29400]\n",
            " [1966690600      19900]\n",
            " [1923040378     349900]\n",
            " [1964597267    1104000]\n",
            " [1916675597      45000]\n",
            " [1952118529      60000]\n",
            " [1959986740    1365000]\n",
            " [1955313886      45600]\n",
            " [1930882109      52700]\n",
            " [1997588931      39800]\n",
            " [1913200965     336000]\n",
            " [1910388753      93500]]\n"
          ]
        }
      ]
    },
    {
      "cell_type": "code",
      "source": [
        "len(x_train)"
      ],
      "metadata": {
        "id": "Pa6hfV9Xs7k9",
        "colab": {
          "base_uri": "https://localhost:8080/"
        },
        "outputId": "a5008c97-aac8-4787-97ec-816649f1afcb"
      },
      "execution_count": 10,
      "outputs": [
        {
          "output_type": "execute_result",
          "data": {
            "text/plain": [
              "27"
            ]
          },
          "metadata": {},
          "execution_count": 10
        }
      ]
    },
    {
      "cell_type": "code",
      "source": [
        "len(x)"
      ],
      "metadata": {
        "id": "eKCldssPs_mh",
        "colab": {
          "base_uri": "https://localhost:8080/"
        },
        "outputId": "9413c04b-c7a3-48b5-b1cd-78df6d02023d"
      },
      "execution_count": 11,
      "outputs": [
        {
          "output_type": "execute_result",
          "data": {
            "text/plain": [
              "37"
            ]
          },
          "metadata": {},
          "execution_count": 11
        }
      ]
    },
    {
      "cell_type": "code",
      "source": [
        "len(x_test)"
      ],
      "metadata": {
        "id": "JOoY-zOwtBO9",
        "colab": {
          "base_uri": "https://localhost:8080/"
        },
        "outputId": "34aa0bf6-b118-4923-86a5-7a3976d852e7"
      },
      "execution_count": 12,
      "outputs": [
        {
          "output_type": "execute_result",
          "data": {
            "text/plain": [
              "10"
            ]
          },
          "metadata": {},
          "execution_count": 12
        }
      ]
    },
    {
      "cell_type": "code",
      "source": [
        "len(y)"
      ],
      "metadata": {
        "id": "RjJtaCZKtEz0",
        "colab": {
          "base_uri": "https://localhost:8080/"
        },
        "outputId": "bc274740-f4d0-4e5c-9d83-67ec1359c190"
      },
      "execution_count": 13,
      "outputs": [
        {
          "output_type": "execute_result",
          "data": {
            "text/plain": [
              "37"
            ]
          },
          "metadata": {},
          "execution_count": 13
        }
      ]
    },
    {
      "cell_type": "code",
      "source": [
        "len(y_test)"
      ],
      "metadata": {
        "id": "rDhXsJRutHF5",
        "colab": {
          "base_uri": "https://localhost:8080/"
        },
        "outputId": "6c456b93-4b7c-490e-84fd-c08711b081c8"
      },
      "execution_count": 15,
      "outputs": [
        {
          "output_type": "execute_result",
          "data": {
            "text/plain": [
              "10"
            ]
          },
          "metadata": {},
          "execution_count": 15
        }
      ]
    },
    {
      "cell_type": "code",
      "source": [
        "len(y_train)"
      ],
      "metadata": {
        "id": "XDgnqfgPtKC9",
        "colab": {
          "base_uri": "https://localhost:8080/"
        },
        "outputId": "c7c8296e-9409-44e8-e586-cfabd061a932"
      },
      "execution_count": 16,
      "outputs": [
        {
          "output_type": "execute_result",
          "data": {
            "text/plain": [
              "27"
            ]
          },
          "metadata": {},
          "execution_count": 16
        }
      ]
    },
    {
      "cell_type": "code",
      "source": [
        "from sklearn.preprocessing import StandardScaler\n",
        "sc = StandardScaler()\n",
        "x_train = sc.fit_transform(x_train)\n",
        "x_test = sc.transform(x_test)"
      ],
      "metadata": {
        "id": "q6QK-zgytQv1"
      },
      "execution_count": 17,
      "outputs": []
    },
    {
      "cell_type": "code",
      "source": [
        "print(x_train)"
      ],
      "metadata": {
        "colab": {
          "base_uri": "https://localhost:8080/"
        },
        "id": "xEXiq6s_w6bP",
        "outputId": "46225579-a62c-478c-beb0-c72e50b79937"
      },
      "execution_count": 18,
      "outputs": [
        {
          "output_type": "stream",
          "name": "stdout",
          "text": [
            "[[ 9.54295625e-01  4.90755101e-01]\n",
            " [ 1.26288870e+00 -5.07587832e-01]\n",
            " [ 1.56478934e+00 -2.87952387e-01]\n",
            " [ 1.46039673e+00 -1.28534452e-01]\n",
            " [ 9.16001800e-01 -5.50690892e-01]\n",
            " [ 1.41103577e+00  3.98527230e-01]\n",
            " [-7.96253220e-01 -2.31855022e-01]\n",
            " [-5.41547346e-01 -4.60047693e-01]\n",
            " [-1.24121050e+00 -2.47067867e-01]\n",
            " [-3.70440427e-02 -5.07587832e-01]\n",
            " [-3.40493362e-01 -3.66235150e-03]\n",
            " [-9.53590241e-01 -6.02668112e-01]\n",
            " [ 7.69248522e-01 -3.83983469e-01]\n",
            " [-1.40932705e+00 -5.07587832e-01]\n",
            " [-5.46350395e-01 -4.60047693e-01]\n",
            " [ 6.90042565e-01 -5.09489438e-01]\n",
            " [ 4.82002113e-01 -5.39598193e-01]\n",
            " [-1.03784778e+00  5.06284880e-01]\n",
            " [ 4.09114696e-01  2.89628617e+00]\n",
            " [-1.25946205e+00 -4.60047693e-01]\n",
            " [-2.53804292e-02 -4.12507553e-01]\n",
            " [ 2.48581515e-01  3.72348460e+00]\n",
            " [ 8.58781803e-02 -4.58146087e-01]\n",
            " [-7.64807842e-01 -4.35643754e-01]\n",
            " [ 1.55784601e+00 -4.76528274e-01]\n",
            " [-1.38044469e+00  4.62231018e-01]\n",
            " [-1.47836263e+00 -3.06334574e-01]]\n"
          ]
        }
      ]
    },
    {
      "cell_type": "code",
      "source": [
        "print(x_test)"
      ],
      "metadata": {
        "colab": {
          "base_uri": "https://localhost:8080/"
        },
        "id": "I-t__vJaC4ZW",
        "outputId": "593e1de7-cf3c-4236-a6f5-535ba8419037"
      },
      "execution_count": 19,
      "outputs": [
        {
          "output_type": "stream",
          "name": "stdout",
          "text": [
            "[[ 0.29124152 -0.50758783]\n",
            " [ 0.10552053 -0.24706787]\n",
            " [-0.17590842 -0.5655868 ]\n",
            " [-0.67819648 -0.50980637]\n",
            " [ 1.17965041 -0.47652827]\n",
            " [ 0.77407563  8.71710088]\n",
            " [-0.28620237 -0.23819371]\n",
            " [-0.55287106 -0.50758783]\n",
            " [-1.42640649 -0.46004769]\n",
            " [ 0.53036488 -0.56305133]]\n"
          ]
        }
      ]
    },
    {
      "cell_type": "code",
      "source": [
        "from sklearn.neighbors import KNeighborsClassifier\n",
        "classifier = KNeighborsClassifier(n_neighbors = 5, metric= 'minkowski', p = 2)\n",
        "classifier.fit(x_train, y_train)"
      ],
      "metadata": {
        "colab": {
          "base_uri": "https://localhost:8080/"
        },
        "id": "fNIqX-QeDmp8",
        "outputId": "2c44c7ec-c8a0-416e-e0f3-1b7ee8f7d9ed"
      },
      "execution_count": 21,
      "outputs": [
        {
          "output_type": "execute_result",
          "data": {
            "text/plain": [
              "KNeighborsClassifier()"
            ]
          },
          "metadata": {},
          "execution_count": 21
        }
      ]
    },
    {
      "cell_type": "code",
      "source": [
        "y_pred = classifier.predict(x_test)"
      ],
      "metadata": {
        "id": "DkjaKL3-Ec5g"
      },
      "execution_count": 22,
      "outputs": []
    },
    {
      "cell_type": "code",
      "source": [
        "from sklearn.metrics import confusion_matrix\n",
        "cm = confusion_matrix(y_test, y_pred)\n",
        "print(cm)"
      ],
      "metadata": {
        "id": "rcx8a1e8ElIY",
        "outputId": "8962cd6f-a5cb-4c19-eece-96f277288361",
        "colab": {
          "base_uri": "https://localhost:8080/"
        }
      },
      "execution_count": 23,
      "outputs": [
        {
          "output_type": "stream",
          "name": "stdout",
          "text": [
            "[[0 2]\n",
            " [1 7]]\n"
          ]
        }
      ]
    },
    {
      "cell_type": "code",
      "source": [
        "from matplotlib.colors import ListedColormap\n",
        "x_set, y_set = x_train, y_train\n",
        "x1, x2 = np.meshgrid(np.arange(start = x_set[:, 0].min()-1, stop = x_set[:,0].max()+1,step = 0.01),np.arange(start = x_set[:,1].min()-1,stop=x_set[:,1].max()+1, step = 0.01))\n",
        "plt.contourf(x1, x2, classifier.predict(np.array([x1.ravel(), x2.ravel()]).T).reshape(x1.shape),alpha = 0.75, cmap = ListedColormap(('red', 'green')))\n",
        "plt.xlim(x1.min(), x1.max())\n",
        "plt.ylim(x2.min(), x2.max())\n",
        "for i,j in enumerate (np.unique(y_set)):plt.scatter(x_set[y_set == j, 0], x_set[y_set == j, 1], c = ListedColormap(('red', 'green'))(i), label = j)\n",
        "plt.title('Klasifikasi Data dengan K-NN (Data Training)')\n",
        "plt.xlabel('Harga')\n",
        "plt.ylabel('Estimasi Pembelian')\n",
        "plt.legend()\n",
        "plt.show()"
      ],
      "metadata": {
        "id": "jbCeCG03E5oz",
        "outputId": "3066dd08-fdcd-414e-86f0-c2ef89154512",
        "colab": {
          "base_uri": "https://localhost:8080/",
          "height": 350
        }
      },
      "execution_count": 24,
      "outputs": [
        {
          "output_type": "stream",
          "name": "stderr",
          "text": [
            "*c* argument looks like a single numeric RGB or RGBA sequence, which should be avoided as value-mapping will have precedence in case its length matches with *x* & *y*.  Please use the *color* keyword-argument or provide a 2-D array with a single row if you intend to specify the same RGB or RGBA value for all points.\n",
            "*c* argument looks like a single numeric RGB or RGBA sequence, which should be avoided as value-mapping will have precedence in case its length matches with *x* & *y*.  Please use the *color* keyword-argument or provide a 2-D array with a single row if you intend to specify the same RGB or RGBA value for all points.\n"
          ]
        },
        {
          "output_type": "display_data",
          "data": {
            "text/plain": [
              "<Figure size 432x288 with 1 Axes>"
            ],
            "image/png": "[encoded data removed]"
          },
          "metadata": {
            "needs_background": "light"
          }
        }
      ]
    }
  ]
}